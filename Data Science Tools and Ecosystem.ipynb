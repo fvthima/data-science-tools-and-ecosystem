{
 "cells": [
  {
   "cell_type": "markdown",
   "id": "829f9d8a-a3d9-4f2a-a5ba-728a31aba291",
   "metadata": {},
   "source": [
    "# Data Science Tools and Ecosystem"
   ]
  },
  {
   "cell_type": "markdown",
   "id": "80590cf8-206d-410f-979b-cded5d172839",
   "metadata": {},
   "source": [
    "In this notebook, we summarize key Data Science concepts, list common languages and libraries, show a small tools table, and include a few simple arithmetic examples."
   ]
  },
  {
   "cell_type": "markdown",
   "id": "ac2ded40-b27b-4567-be25-2caa2d496638",
   "metadata": {},
   "source": [
    "## Popular Data Science Languages\n",
    "- Python\n",
    "- R\n",
    "- SQL\n",
    "- Scala\n",
    "- Julia\n",
    "- Java"
   ]
  },
  {
   "cell_type": "markdown",
   "id": "a16b9f1e-5b5c-44b8-b6b0-fe8951efc302",
   "metadata": {},
   "source": [
    "## Common Data Science Libraries\n",
    "- **Python:** NumPy, pandas, Matplotlib, Seaborn, scikit-learn, TensorFlow, Keras\n",
    "- **R:** ggplot2, dplyr, tidyr, caret, randomForest"
   ]
  },
  {
   "cell_type": "markdown",
   "id": "7e140dc5-062a-4732-bc75-9f5ead009d59",
   "metadata": {},
   "source": [
    "## Data Science Tools\n",
    "\n",
    "| Tool            | Category          | Typical Use                                  |\n",
    "|-----------------|-------------------|----------------------------------------------|\n",
    "| JupyterLab      | IDE/Notebook      | Interactive coding, docs, and visualization  |\n",
    "| RStudio         | IDE               | R development and visualization              |\n",
    "| Apache Spark    | Big Data/Compute  | Distributed data processing & ML             |"
   ]
  },
  {
   "cell_type": "markdown",
   "id": "cc1c9c42-470e-4281-9eb8-fd4a7dc4ffa1",
   "metadata": {},
   "source": [
    "## Arithmetic Expression Examples\n",
    "Below are a few simple arithmetic operations evaluated in Python."
   ]
  },
  {
   "cell_type": "code",
   "execution_count": 1,
   "id": "7170826b-61e0-42d9-ad02-d201ed910445",
   "metadata": {},
   "outputs": [
    {
     "data": {
      "text/plain": [
       "17"
      ]
     },
     "execution_count": 1,
     "metadata": {},
     "output_type": "execute_result"
    }
   ],
   "source": [
    "# This expression multiplies 3 by 4, then adds 5\n",
    "(3 * 4) + 5"
   ]
  },
  {
   "cell_type": "code",
   "execution_count": 2,
   "id": "6068db68-fdf7-4ccd-bf8e-096757c84ef1",
   "metadata": {},
   "outputs": [
    {
     "name": "stdout",
     "output_type": "stream",
     "text": [
      "200 minutes is 3.3333333333333335 hours\n"
     ]
    }
   ],
   "source": [
    "# Convert minutes to hours\n",
    "minutes = 200\n",
    "hours = minutes / 60\n",
    "print(f\"{minutes} minutes is {hours} hours\")"
   ]
  },
  {
   "cell_type": "markdown",
   "id": "4e8df408-9441-4f21-8a91-ac77f23e59fb",
   "metadata": {},
   "source": [
    "## Objectives\n",
    "- List common Data Science languages\n",
    "- List common Data Science libraries\n",
    "- Create a small table of Data Science tools\n",
    "- Execute simple arithmetic expressions in Python\n",
    "- Convert minutes to hours with Python code"
   ]
  },
  {
   "cell_type": "markdown",
   "id": "e304fc9f-2a3d-40ac-8b19-a049b9cef72d",
   "metadata": {},
   "source": [
    "## Author\n",
    "Fathima Haris"
   ]
  }
 ],
 "metadata": {
  "kernelspec": {
   "display_name": "Python 3 (ipykernel)",
   "language": "python",
   "name": "python3"
  },
  "language_info": {
   "codemirror_mode": {
    "name": "ipython",
    "version": 3
   },
   "file_extension": ".py",
   "mimetype": "text/x-python",
   "name": "python",
   "nbconvert_exporter": "python",
   "pygments_lexer": "ipython3",
   "version": "3.12.8"
  }
 },
 "nbformat": 4,
 "nbformat_minor": 5
}
